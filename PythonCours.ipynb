{
  "nbformat": 4,
  "nbformat_minor": 0,
  "metadata": {
    "colab": {
      "name": "PythonCours.ipynb",
      "provenance": [],
      "authorship_tag": "ABX9TyO8LS8KbHcFNgFDLi00HN0M",
      "include_colab_link": true
    },
    "kernelspec": {
      "name": "python3",
      "display_name": "Python 3"
    }
  },
  "cells": [
    {
      "cell_type": "markdown",
      "metadata": {
        "id": "view-in-github",
        "colab_type": "text"
      },
      "source": [
        "<a href=\"https://colab.research.google.com/github/BetzalelKenig/python-scripts/blob/master/PythonCours.ipynb\" target=\"_parent\"><img src=\"https://colab.research.google.com/assets/colab-badge.svg\" alt=\"Open In Colab\"/></a>"
      ]
    },
    {
      "cell_type": "code",
      "metadata": {
        "id": "jjxhq3PGWnOh",
        "colab_type": "code",
        "colab": {
          "base_uri": "https://localhost:8080/",
          "height": 35
        },
        "outputId": "032866c3-b9a9-47af-aad4-1ba747be66ee"
      },
      "source": [
        "print('Hello Worlld')"
      ],
      "execution_count": 2,
      "outputs": [
        {
          "output_type": "stream",
          "text": [
            "Hello Worlld\n"
          ],
          "name": "stdout"
        }
      ]
    },
    {
      "cell_type": "markdown",
      "metadata": {
        "id": "E_Pf9oGWW4qm",
        "colab_type": "text"
      },
      "source": [
        "#Python course\n",
        "\n",
        "---"
      ]
    },
    {
      "cell_type": "markdown",
      "metadata": {
        "id": "WPRAvIrIqsTU",
        "colab_type": "text"
      },
      "source": [
        "**List of topics**\n",
        "\n",
        "- What is python\n",
        "- Installing Python\n",
        "- Programming Environment\n",
        "- Variables and Data Types\n",
        "- Lists\n",
        "- if Statements\n",
        "- Dictionaries\n",
        "- User Input and while Loops\n",
        "- Functions\n",
        " - Pack/Unpack\n",
        "- Advanced methods\n",
        " - lambda\n",
        " - map/filter/zip\n",
        "---\n",
        "- Zen\n",
        "- OOP\n",
        "- Decorators\n",
        "- Files and Exceptions\n",
        "- Debug\n",
        " - Logging\n",
        " - Unittestig\n",
        "- Threads\n",
        "- Tkinter\n",
        "- Regex\n",
        "- Database"
      ]
    },
    {
      "cell_type": "markdown",
      "metadata": {
        "id": "hlHe5Yzaw8rH",
        "colab_type": "text"
      },
      "source": [
        "## What is Python\n",
        "[Wiki](https://en.wikipedia.org/wiki/Python_(programming_language) \"Python Wikipedia\")\n",
        "\n",
        "Python is a high-level programming language, with applications in numerous areas, including web programming, scripting, scientific computing, and artificial intelligence.\n",
        "\n",
        "Python is processed at runtime by the interpreter. There is no need to compile your program before executing it.\n",
        "\n"
      ]
    },
    {
      "cell_type": "markdown",
      "metadata": {
        "id": "eKJ0MCwP1Ry7",
        "colab_type": "text"
      },
      "source": [
        "##Instaling Python \n",
        "Windows\n",
        "\n",
        "[Download Python](https://www.python.org/ftp/python/3.8.3/python-3.8.3.exe)\n",
        "\n",
        "To check if python installed  \n",
        "In cmd:  \n",
        "\n",
        "    python --version\n"
      ]
    },
    {
      "cell_type": "markdown",
      "metadata": {
        "id": "IMSu7rXo53ui",
        "colab_type": "text"
      },
      "source": [
        "##Programming Environment\n",
        "\n",
        "- python ide (cmd)\n",
        "- SublimeText/VSCode\n",
        "- Pycharm\n",
        "\n",
        "###Run python file via cmd\n",
        "In notped - new file  \n",
        "print('Hello World')\n",
        "Save file:  \n",
        ">file_name.py \n",
        "\n",
        "in cmd in the same directory:  \n",
        ">python file_name.py"
      ]
    }
  ]
}